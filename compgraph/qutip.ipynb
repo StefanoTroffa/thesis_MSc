{
 "cells": [
  {
   "cell_type": "code",
   "execution_count": 3,
   "metadata": {},
   "outputs": [
    {
     "name": "stderr",
     "output_type": "stream",
     "text": [
      "2024-04-08 12:57:28.185479: I external/local_tsl/tsl/cuda/cudart_stub.cc:32] Could not find cuda drivers on your machine, GPU will not be used.\n",
      "2024-04-08 12:57:28.188451: I external/local_tsl/tsl/cuda/cudart_stub.cc:32] Could not find cuda drivers on your machine, GPU will not be used.\n",
      "2024-04-08 12:57:28.227189: I tensorflow/core/platform/cpu_feature_guard.cc:210] This TensorFlow binary is optimized to use available CPU instructions in performance-critical operations.\n",
      "To enable the following instructions: AVX2 FMA, in other operations, rebuild TensorFlow with the appropriate compiler flags.\n",
      "2024-04-08 12:57:28.946000: W tensorflow/compiler/tf2tensorrt/utils/py_utils.cc:38] TF-TRT Warning: Could not find TensorRT\n"
     ]
    }
   ],
   "source": [
    "from compgraph.useful import nd_to_index\n",
    "import scipy.sparse\n",
    "\n",
    "from scipy.sparse import csr_matrix, eye\n",
    "import tensorflow as tf\n",
    "import numpy as np\n",
    "import qutip\n",
    "from qutip import tensor, jmat, qeye, Qobj"
   ]
  },
  {
   "cell_type": "code",
   "execution_count": 37,
   "metadata": {},
   "outputs": [],
   "source": [
    "def create_spin_operators(graph):\n",
    "\n",
    "        G=graph\n",
    "        # Define the spin operators on x y and z axis\n",
    "        Spin_x = jmat(1/2, 'x')\n",
    "        Spin_y = jmat(1/2, 'y')\n",
    "        Spin_z = jmat(1/2, 'z')\n",
    "        # Define ladder operators S+ and S- in terms of Sx and Sy\n",
    "        Spin_plus = Spin_x + 1j*Spin_y\n",
    "        Spin_minus = Spin_x - 1j*Spin_y\n",
    "\n",
    "        # Define the identity operator\n",
    "        Identity = qeye(2)\n",
    "        \n",
    "        # Create a mapping from nodes to integer indices\n",
    "        # Initialize the Hamiltonian for the system\n",
    "\n",
    "        # Create a list of spin operators for each site\n",
    "        # Convert numpy arrays back to Qobj\n",
    "        Sp_real_qobj = Qobj(Spin_plus)\n",
    "        Sm_real_qobj = Qobj(Spin_minus)\n",
    "        Sz_real_qobj = Qobj(Spin_z)\n",
    "        #print(I, Sp_real_qobj)\n",
    "        print(Sp_real_qobj.to(\"CSR\").data_as(\"csr_matrix\"))\n",
    "        # Create a list of spin operators for each site\n",
    "        print(tensor([Sp_real_qobj if i == 1 else Identity for i in range(G.number_of_nodes())]).to(\"CSR\").data_as(\"csr_matrix\")) \n",
    "        spin_operators = [[csr_matrix(tensor([Sp_real_qobj if i == j else Identity for i in range(G.number_of_nodes())]).to(\"CSR\").data_as(\"csr_matrix\")) for j in range(G.number_of_nodes())],\n",
    "                        [csr_matrix(tensor([Sm_real_qobj if i == j else Identity for i in range(G.number_of_nodes())]).to(\"CSR\").data_as(\"csr_matrix\")) for j in range(G.number_of_nodes())],\n",
    "                        [csr_matrix(tensor([Sz_real_qobj if i == j else Identity for i in range(G.number_of_nodes())]).to(\"CSR\").data_as(\"csr_matrix\")) for j in range(G.number_of_nodes())]]\n",
    "        #print(\"Here we analyze the spin operator\", \"\\n\", spin_operators)\n",
    "        return spin_operators"
   ]
  },
  {
   "cell_type": "code",
   "execution_count": 38,
   "metadata": {},
   "outputs": [
    {
     "name": "stdout",
     "output_type": "stream",
     "text": [
      "  (0, 1)\t(1+0j)\n",
      "  (0, 1)\t(1+0j)\n",
      "  (2, 3)\t(1+0j)\n"
     ]
    }
   ],
   "source": [
    "import networkx as nx \n",
    "G = nx.Graph()\n",
    "G.add_edge(0, 1)\n",
    "\n",
    "# Exercise: Generate Hamiltonian using your function\n",
    "spin_operators= create_spin_operators(G)\n"
   ]
  },
  {
   "cell_type": "code",
   "execution_count": null,
   "metadata": {},
   "outputs": [],
   "source": []
  }
 ],
 "metadata": {
  "kernelspec": {
   "display_name": "gnets2",
   "language": "python",
   "name": "python3"
  },
  "language_info": {
   "codemirror_mode": {
    "name": "ipython",
    "version": 3
   },
   "file_extension": ".py",
   "mimetype": "text/x-python",
   "name": "python",
   "nbconvert_exporter": "python",
   "pygments_lexer": "ipython3",
   "version": "3.12.2"
  }
 },
 "nbformat": 4,
 "nbformat_minor": 2
}
