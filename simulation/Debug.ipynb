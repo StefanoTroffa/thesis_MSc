{
 "cells": [
  {
   "cell_type": "code",
   "execution_count": null,
   "metadata": {},
   "outputs": [],
   "source": [
    "\"\"\"\n",
    "This is a HelloWorld-type of script to run on the GPU nodes. \n",
    "It uses Tensorflow with Keras and is based on this TensorFlow tutorial:\n",
    "https://www.tensorflow.org/tutorials/keras/classification\n",
    "\"\"\"\n",
    "\n",
    "# Import TensorFlow and Keras\n",
    "import tensorflow as tf\n",
    "from tensorflow import keras\n",
    "\n",
    "# Some helper libraries\n",
    "import os\n",
    "import numpy as np\n",
    "import matplotlib.pyplot as plt\n",
    "\n",
    "# Some helper functions\n",
    "# +++++++++++++++++++++\n",
    "def plot_image(i, predictions_array, true_label, img):\n",
    "  true_label, img = true_label[i], img[i]\n",
    "  plt.grid(False)\n",
    "  plt.xticks([])\n",
    "  plt.yticks([])\n",
    "\n",
    "  plt.imshow(img, cmap=plt.cm.binary)\n",
    "\n",
    "  predicted_label = np.argmax(predictions_array)\n",
    "  if predicted_label == true_label:\n",
    "    color = 'blue'\n",
    "  else:\n",
    "    color = 'red'\n",
    "\n",
    "  plt.xlabel(\"{} {:2.0f}% ({})\".format(class_names[predicted_label],\n",
    "                                100*np.max(predictions_array),\n",
    "                                class_names[true_label]),\n",
    "                                color=color)\n",
    "\n",
    "def plot_value_array(i, predictions_array, true_label):\n",
    "  true_label = true_label[i]\n",
    "  plt.grid(False)\n",
    "  plt.xticks(range(10))\n",
    "  plt.yticks([])\n",
    "  thisplot = plt.bar(range(10), predictions_array, color=\"#777777\")\n",
    "  plt.ylim([0, 1])\n",
    "  predicted_label = np.argmax(predictions_array)\n",
    "\n",
    "  thisplot[predicted_label].set_color('red')\n",
    "  thisplot[true_label].set_color('blue')\n",
    "\n",
    "# Run some tests\n",
    "# ++++++++++++++\n",
    "\n",
    "# get the version of TensorFlow\n",
    "print(\"TensorFlow version: {}\".format(tf.__version__))\n",
    "\n",
    "# Check that TensorFlow was build with CUDA to use the gpus\n",
    "print(\"Device name: {}\".format(tf.test.gpu_device_name()))\n",
    "print(\"Build with GPU Support? {}\".format(tf.test.is_built_with_gpu_support()))\n",
    "print(\"Build with CUDA? {} \".format(tf.test.is_built_with_cuda()))\n",
    "\n",
    "# Get the data\n",
    "# ++++++++++++\n",
    "\n",
    "# Get an example dataset\n",
    "fashion_mnist = keras.datasets.fashion_mnist\n",
    "(train_images, train_labels), (test_images, test_labels) = fashion_mnist.load_data()\n",
    "\n",
    "# Class names for later use\n",
    "class_names = ['T-shirt/top', 'Trouser', 'Pullover', 'Dress', 'Coat',\n",
    "               'Sandal', 'Shirt', 'Sneaker', 'Bag', 'Ankle boot']\n",
    "               \n",
    "# Get some information about the data\n",
    "print(\"Size of training dataset: {}\".format(train_images.shape))\n",
    "print(\"Number of labels training dataset: {}\".format(len(train_labels)))\n",
    "print(\"Size of test dataset: {}\".format(test_images.shape))\n",
    "print(\"Number of labels test dataset: {}\".format(len(test_labels)))\n",
    "\n",
    "# Convert the data from integer to float\n",
    "train_images = train_images / 255.0\n",
    "test_images = test_images / 255.0\n",
    "\n",
    "# plot the first 25 images of the training Set\n",
    "plt.figure(figsize=(10,10))\n",
    "for i in range(25):\n",
    "    plt.subplot(5,5,i+1)\n",
    "    plt.xticks([])\n",
    "    plt.yticks([])\n",
    "    plt.grid(False)\n",
    "    plt.imshow(train_images[i], cmap=plt.cm.binary)\n",
    "    plt.xlabel(class_names[train_labels[i]])\n",
    "plt.savefig(\"./plots/trainingset_example.png\",bbox_inches='tight',overwrite=True)\n",
    "plt.close('all')\n",
    "\n",
    "# Set and train the model\n",
    "# +++++++++++++++++++++++\n",
    "\n",
    "\n",
    "# Set up the layers\n",
    "model = keras.Sequential([\n",
    "    keras.layers.Flatten(input_shape=(28, 28)),\n",
    "    keras.layers.Dense(128, activation='relu'),\n",
    "    keras.layers.Dense(10)\n",
    "])\n",
    "\n",
    "# Compile the model\n",
    "model.compile(optimizer='adam',\n",
    "              loss=tf.keras.losses.SparseCategoricalCrossentropy(from_logits=True),\n",
    "              metrics=['accuracy'])\n",
    "\n",
    "# Train the model\n",
    "model.fit(train_images, train_labels, epochs=10)\n",
    "\n",
    "# Evaluate the model\n",
    "test_loss, test_acc = model.evaluate(test_images,  test_labels, verbose=2)\n",
    "\n",
    "print('\\nTest accuracy: {}'.format(test_acc))\n",
    "\n",
    "# Use the model\n",
    "# +++++++++++++\n",
    "\n",
    "# grab an image\n",
    "img_index=10\n",
    "img = test_images[img_index]\n",
    "print(img.shape)\n",
    "\n",
    "# add image to a batch\n",
    "img = (np.expand_dims(img,0))\n",
    "print(img.shape)\n",
    "\n",
    "# to make predictions, add a new layer\n",
    "probability_model = tf.keras.Sequential([model, \n",
    "                                         tf.keras.layers.Softmax()])\n",
    "\n",
    "# predict the label for the image\n",
    "predictions_img = probability_model.predict(img)\n",
    "\n",
    "print(\"Predictions for image {}:\".format(img_index))\n",
    "print(predictions_img[0])\n",
    "print(\"Label with highest confidence: {}\".format(np.argmax(predictions_img[0])))\n",
    "\n",
    "# plot it\n",
    "plt.figure(figsize=(6, 3))\n",
    "plt.subplot(1,2, 1)\n",
    "plot_image(img_index, predictions_img[0], test_labels, test_images)\n",
    "plt.subplot(1,2,2)\n",
    "plot_value_array(img_index, predictions_img[0], test_labels)\n",
    "plt.savefig(\"./plots/trainingset_prediction_img{}.png\".format(img_index),bbox_inches='tight',overwrite=True)"
   ]
  },
  {
   "cell_type": "code",
   "execution_count": 4,
   "metadata": {},
   "outputs": [
    {
     "name": "stdout",
     "output_type": "stream",
     "text": [
      "\u001b[1;31mLmod has detected the following error: \u001b[0m These module(s) or\n",
      "extension(s) exist but cannot be loaded as requested:\n",
      "\"Python/3.7.4-GCCcore-8.3.0\"\n",
      "   Try: \"module spider Python/3.7.4-GCCcore-8.3.0\" to see how to load the\n",
      "module(s).\n",
      "\n",
      "\n",
      "\n"
     ]
    }
   ],
   "source": [
    "!module load Python/3.11.3-GCCcore-12.3.0\t\t\t\t\t\n",
    "# !module load SciPy-bundle/2019.10-fosscuda-2019b-Python-3.7.4\n",
    "# !module load matplotlib/3.1.1-foss-2019b-Python-3.7.4\n",
    "# !module load TensorFlow/2.2.0-fosscuda-2019b-Python-3.7.4"
   ]
  },
  {
   "cell_type": "code",
   "execution_count": 9,
   "metadata": {},
   "outputs": [
    {
     "name": "stdout",
     "output_type": "stream",
     "text": [
      "\u001b[m1h\u001b=\n",
      "----------------------------------------------------------------------------\u001b[m\n",
      "  TensorFlow:\u001b[m\n",
      "----------------------------------------------------------------------------\u001b[m\n",
      "    Description:\u001b[m\n",
      "      An open-source software library for Machine Intelligence\u001b[m\n",
      "\u001b[m\n",
      "     Versions:\u001b[m\n",
      "        TensorFlow/1.13.1-foss-2019a-Python-3.7.2\u001b[m\n",
      "        TensorFlow/1.13.1-fosscuda-2019a-Python-3.7.2\u001b[m\n",
      "        TensorFlow/2.1.0-fosscuda-2019b-Python-3.7.4\u001b[m\n",
      "        TensorFlow/2.1.0-Miniconda3-4.7.10\u001b[m\n",
      "        TensorFlow/2.2.0-fosscuda-2019b-Python-3.7.4\u001b[m\n",
      "        TensorFlow/2.4.1-fosscuda-2020b\u001b[m\n",
      "        TensorFlow/2.6.0-foss-2021a-CUDA-11.3.1\u001b[m\n",
      "        TensorFlow/2.11.0-foss-2022a-CUDA-11.7.0\u001b[m\n",
      "\u001b[m\n",
      "----------------------------------------------------------------------------\u001b[m\n",
      "  For detailed information about a specific \"TensorFlow\" package (including how \u001b[mto load the modules) use the module's full name.\u001b[m\n",
      "  Note that names that have a trailing (E) are extensions provided by other modu\u001b[mles.\u001b[m\n",
      "  For example:\u001b[m\n",
      "\u001b[7mlines 1-21\u001b[m\u001b[K\u0007\u001b[H\u001b[2J\u001b[H\u001b[H\u001b[2J\u001b[H\u001b[m\n",
      "----------------------------------------------------------------------------\u001b[m\n",
      "  TensorFlow:\u001b[m\n",
      "----------------------------------------------------------------------------\u001b[m\n",
      "    Description:\u001b[m\n",
      "      An open-source software library for Machine Intelligence\u001b[m\n",
      "\u001b[m\n",
      "     Versions:\u001b[m\n",
      "        TensorFlow/1.13.1-foss-2019a-Python-3.7.2\u001b[m\n",
      "        TensorFlow/1.13.1-fosscuda-2019a-Python-3.7.2\u001b[m\n",
      "        TensorFlow/2.1.0-fosscuda-2019b-Python-3.7.4\u001b[m\n",
      "        TensorFlow/2.1.0-Miniconda3-4.7.10\u001b[m\n",
      "        TensorFlow/2.2.0-fosscuda-2019b-Python-3.7.4\u001b[m\n",
      "        TensorFlow/2.4.1-fosscuda-2020b\u001b[m\n",
      "        TensorFlow/2.6.0-foss-2021a-CUDA-11.3.1\u001b[m\n",
      "        TensorFlow/2.11.0-foss-2022a-CUDA-11.7.0\u001b[m\n",
      "\u001b[m\n",
      "----------------------------------------------------------------------------\u001b[m\n",
      "  For detailed information about a specific \"TensorFlow\" package (including how \u001b[mto load the modules) use the module's full name.\u001b[m\n",
      "  Note that names that have a trailing (E) are extensions provided by other modu\u001b[mles.\u001b[m\n",
      "  For example:\u001b[m\n",
      "\u001b[7mlines 1-21\u001b[m\u001b[K"
     ]
    }
   ],
   "source": [
    "!module spider TensorFlow\n"
   ]
  },
  {
   "cell_type": "code",
   "execution_count": 1,
   "metadata": {},
   "outputs": [
    {
     "data": {
      "text/plain": [
       "<bound method LineProfiler.print_stats of <line_profiler.line_profiler.LineProfiler object at 0x155550f5b230>>"
      ]
     },
     "execution_count": 1,
     "metadata": {},
     "output_type": "execute_result"
    }
   ],
   "source": [
    "import line_profiler\n",
    "import atexit\n",
    "profile = line_profiler.LineProfiler()\n",
    "atexit.register(profile.print_stats)\n"
   ]
  },
  {
   "cell_type": "code",
   "execution_count": null,
   "metadata": {},
   "outputs": [],
   "source": []
  },
  {
   "cell_type": "code",
   "execution_count": 9,
   "metadata": {},
   "outputs": [],
   "source": [
    "hyperparams = {\n",
    "    'simulation_type':'VMC',\n",
    "    'graph_params':{\n",
    "    'graphType': '2dsquare',\n",
    "    'n': 2,\n",
    "    'm': 2,\n",
    "    'sublattice':'Neel'\n",
    "    },\n",
    "    'sim_params':{\n",
    "    'beta': 0.05,\n",
    "    'batch_size': 8,\n",
    "    'learning_rate': 7e-5,\n",
    "    'n_batch': 1,\n",
    "    'outer_loop':2, \n",
    "    'inner_loop':2\n",
    "    },\n",
    "    'ansatz': 'GNN2adv',\n",
    "    'ansatz_params': {\n",
    "        'K_layer':1,\n",
    "        'hidden_size': 128,\n",
    "        'output_emb_size': 64\n",
    "    }\n",
    "}\n"
   ]
  },
  {
   "cell_type": "code",
   "execution_count": 2,
   "metadata": {},
   "outputs": [
    {
     "data": {
      "text/plain": [
       "<bound method LineProfiler.print_stats of <line_profiler.line_profiler.LineProfiler object at 0x155550f5b4d0>>"
      ]
     },
     "execution_count": 2,
     "metadata": {},
     "output_type": "execute_result"
    }
   ],
   "source": [
    "import line_profiler\n",
    "import atexit\n",
    "profile = line_profiler.LineProfiler()\n",
    "atexit.register(profile.print_stats)\n"
   ]
  },
  {
   "cell_type": "code",
   "execution_count": 6,
   "metadata": {},
   "outputs": [],
   "source": []
  },
  {
   "cell_type": "code",
   "execution_count": 1,
   "metadata": {},
   "outputs": [
    {
     "data": {
      "text/plain": [
       "<bound method LineProfiler.print_stats of <line_profiler.line_profiler.LineProfiler object at 0x155550f5b770>>"
      ]
     },
     "execution_count": 1,
     "metadata": {},
     "output_type": "execute_result"
    }
   ],
   "source": [
    "import line_profiler\n",
    "import atexit\n"
   ]
  },
  {
   "cell_type": "code",
   "execution_count": 2,
   "metadata": {},
   "outputs": [
    {
     "data": {
      "text/plain": [
       "<bound method LineProfiler.print_stats of <line_profiler.line_profiler.LineProfiler object at 0x155479783150>>"
      ]
     },
     "execution_count": 2,
     "metadata": {},
     "output_type": "execute_result"
    }
   ],
   "source": [
    "import logging\n",
    "import sys\n",
    "import pickle\n",
    "import numpy as np\n",
    "import os\n",
    "import subprocess\n",
    "import platform\n",
    "from datetime import datetime\n",
    "import pandas as pd\n",
    "from compgraph.training import outer_training, outer_training_mc\n",
    "from simulation.initializer import create_graph_from_ham, format_hyperparams_to_string, initialize_NQS_model_fromhyperparams, initialize_graph_tuples, initialize_hamiltonian_and_groundstate\n",
    "import os\n",
    "import argparse\n",
    "import line_profiler\n",
    "import atexit\n",
    "from simulation.data_handling import  parse_args,create_directory_structure\n",
    "\n"
   ]
  },
  {
   "cell_type": "code",
   "execution_count": 4,
   "metadata": {},
   "outputs": [
    {
     "name": "stdout",
     "output_type": "stream",
     "text": [
      "Results will be saved to simulation_results/system_Heisenberg/2dsquare_02_02_Neel/beta_0.05_bs_8_lr_7e-05_ol_2_il_2_VMC/ans_GNN2adv_K_1_hs_128_oes_64\n",
      "2024-07-18 15:44:32,770 - [INFO] - ========= HYPERPARAMETERS ==========\n",
      "2024-07-18 15:44:32,785 - [INFO] - simulation_type: VMC\n",
      "2024-07-18 15:44:32,786 - [INFO] - graph_params:\n",
      "2024-07-18 15:44:32,786 - [INFO] -   graphType: 2dsquare\n",
      "2024-07-18 15:44:32,787 - [INFO] -   n: 2\n",
      "2024-07-18 15:44:32,787 - [INFO] -   m: 2\n",
      "2024-07-18 15:44:32,788 - [INFO] -   sublattice: Neel\n",
      "2024-07-18 15:44:32,788 - [INFO] - sim_params:\n",
      "2024-07-18 15:44:32,789 - [INFO] -   beta: 0.05\n",
      "2024-07-18 15:44:32,790 - [INFO] -   batch_size: 8\n",
      "2024-07-18 15:44:32,790 - [INFO] -   learning_rate: 7e-05\n",
      "2024-07-18 15:44:32,791 - [INFO] -   n_batch: 1\n",
      "2024-07-18 15:44:32,791 - [INFO] -   outer_loop: 2\n",
      "2024-07-18 15:44:32,792 - [INFO] -   inner_loop: 2\n",
      "2024-07-18 15:44:32,793 - [INFO] - ansatz: GNN2adv\n",
      "2024-07-18 15:44:32,793 - [INFO] - ansatz_params:\n",
      "2024-07-18 15:44:32,794 - [INFO] -   K_layer: 1\n",
      "2024-07-18 15:44:32,794 - [INFO] -   hidden_size: 128\n",
      "2024-07-18 15:44:32,795 - [INFO] -   output_emb_size: 64\n",
      "2024-07-18 15:44:32,795 - [INFO] - ===================================\n",
      "2024-07-18 15:44:32,796 - [INFO] - None\n",
      "2024-07-18 15:44:32,949 - [INFO] - Git hash: b6e3cd433efe3fa20823cc5a35d37ff7c361574f\n",
      "2024-07-18 15:44:33,100 - [INFO] - System info: platform: Linux-5.14.0-362.24.1.el9_3.x86_64-x86_64-with-glibc2.34, processor: x86_64, architecture: ('64bit', 'ELF'), python_version: 3.11.9\n",
      "2024-07-18 15:44:33,102 - [INFO] - Starting simulation...\n",
      "2024-07-18 15:44:33,105 - [INFO] - Graph and sublattice initialized: Graph with 4 nodes and 4 edges, [[1. 0.]\n",
      " [0. 1.]\n",
      " [1. 0.]\n",
      " [0. 1.]]\n"
     ]
    },
    {
     "name": "stderr",
     "output_type": "stream",
     "text": [
      "2024-07-18 15:44:33.617350: I tensorflow/core/common_runtime/gpu/gpu_device.cc:1929] Created device /job:localhost/replica:0/task:0/device:GPU:0 with 12818 MB memory:  -> device: 0, name: Tesla T4, pci bus id: 0000:d8:00.0, compute capability: 7.5\n"
     ]
    },
    {
     "name": "stdout",
     "output_type": "stream",
     "text": [
      "2024-07-18 15:44:34,175 - [INFO] - Models initialized.\n",
      "2024-07-18 15:45:43,937 - [INFO] - ========= SIMULATION RESULTS ==========\n",
      "2024-07-18 15:45:43,939 - [INFO] - sim_time: 69.60297679901123\n",
      "2024-07-18 15:45:43,940 - [INFO] - energies: (0.33166541672528727+0j)\n",
      "2024-07-18 15:45:43,941 - [INFO] - loss: (0.007231376941881178-0j)\n",
      "2024-07-18 15:45:43,941 - [INFO] - overlap: (0.4133150636961802+0j)\n",
      "2024-07-18 15:45:43,942 - [INFO] - =======================================\n",
      "2024-07-18 15:45:43,942 - [INFO] - None\n",
      "2024-07-18 15:45:43,943 - [INFO] - Results saved to simulation_results/system_Heisenberg/2dsquare_02_02_Neel/beta_0.05_bs_8_lr_7e-05_ol_2_il_2_VMC/ans_GNN2adv_K_1_hs_128_oes_64/results_VMC_2dsquare_2_2_Neel_0.05_8_7e-05_1_2_2_GNN2adv_1_128_64.pkl\n"
     ]
    },
    {
     "data": {
      "text/html": [
       "<div>\n",
       "<style scoped>\n",
       "    .dataframe tbody tr th:only-of-type {\n",
       "        vertical-align: middle;\n",
       "    }\n",
       "\n",
       "    .dataframe tbody tr th {\n",
       "        vertical-align: top;\n",
       "    }\n",
       "\n",
       "    .dataframe thead th {\n",
       "        text-align: right;\n",
       "    }\n",
       "</style>\n",
       "<table border=\"1\" class=\"dataframe\">\n",
       "  <thead>\n",
       "    <tr style=\"text-align: right;\">\n",
       "      <th></th>\n",
       "      <th>simulation_type</th>\n",
       "      <th>graphType</th>\n",
       "      <th>n</th>\n",
       "      <th>m</th>\n",
       "      <th>sublattice</th>\n",
       "      <th>beta</th>\n",
       "      <th>batch_size</th>\n",
       "      <th>learning_rate</th>\n",
       "      <th>n_batch</th>\n",
       "      <th>outer_loop</th>\n",
       "      <th>inner_loop</th>\n",
       "      <th>ansatz</th>\n",
       "      <th>K_layer</th>\n",
       "      <th>hidden_size</th>\n",
       "      <th>output_emb_size</th>\n",
       "      <th>sim_time</th>\n",
       "      <th>energies</th>\n",
       "      <th>loss</th>\n",
       "      <th>overlap</th>\n",
       "    </tr>\n",
       "  </thead>\n",
       "  <tbody>\n",
       "    <tr>\n",
       "      <th>0</th>\n",
       "      <td>VMC</td>\n",
       "      <td>2dsquare</td>\n",
       "      <td>2</td>\n",
       "      <td>2</td>\n",
       "      <td>Neel</td>\n",
       "      <td>0.05</td>\n",
       "      <td>8</td>\n",
       "      <td>0.00007</td>\n",
       "      <td>1</td>\n",
       "      <td>2</td>\n",
       "      <td>2</td>\n",
       "      <td>GNN2adv</td>\n",
       "      <td>1</td>\n",
       "      <td>128</td>\n",
       "      <td>64</td>\n",
       "      <td>69.602977</td>\n",
       "      <td>[tf.Tensor((1.254130812569568+0j), shape=(), d...</td>\n",
       "      <td>[(-0.02024300147636642-0j), (0.008911340460498...</td>\n",
       "      <td>[(0.057652462646195266+0j), (0.125702612278162...</td>\n",
       "    </tr>\n",
       "  </tbody>\n",
       "</table>\n",
       "</div>"
      ],
      "text/plain": [
       "  simulation_type graphType  n  m sublattice  beta  batch_size  learning_rate  \\\n",
       "0             VMC  2dsquare  2  2       Neel  0.05           8        0.00007   \n",
       "\n",
       "   n_batch  outer_loop  inner_loop   ansatz  K_layer  hidden_size  \\\n",
       "0        1           2           2  GNN2adv        1          128   \n",
       "\n",
       "   output_emb_size   sim_time  \\\n",
       "0               64  69.602977   \n",
       "\n",
       "                                            energies  \\\n",
       "0  [tf.Tensor((1.254130812569568+0j), shape=(), d...   \n",
       "\n",
       "                                                loss  \\\n",
       "0  [(-0.02024300147636642-0j), (0.008911340460498...   \n",
       "\n",
       "                                             overlap  \n",
       "0  [(0.057652462646195266+0j), (0.125702612278162...  "
      ]
     },
     "execution_count": 4,
     "metadata": {},
     "output_type": "execute_result"
    }
   ],
   "source": [
    "from simulation.data_handling import run_simulation\n",
    "hyperparams = {\n",
    "    'simulation_type':'VMC',\n",
    "    'graph_params':{\n",
    "    'graphType': '2dsquare',\n",
    "    'n': 2,\n",
    "    'm': 2,\n",
    "    'sublattice':'Neel'\n",
    "    },\n",
    "    'sim_params':{\n",
    "    'beta': 0.05,\n",
    "    'batch_size': 8,\n",
    "    'learning_rate': 7e-5,\n",
    "    'n_batch': 1,\n",
    "    'outer_loop':2, \n",
    "    'inner_loop':2\n",
    "    },\n",
    "    'ansatz': 'GNN2adv',\n",
    "    'ansatz_params': {\n",
    "        'K_layer':1,\n",
    "        'hidden_size': 128,\n",
    "        'output_emb_size': 64\n",
    "    }\n",
    "}\n",
    "run_simulation(hyperparams)"
   ]
  },
  {
   "cell_type": "code",
   "execution_count": 5,
   "metadata": {},
   "outputs": [
    {
     "name": "stdout",
     "output_type": "stream",
     "text": [
      "Timer unit: 1e-09 s\n",
      "\n"
     ]
    }
   ],
   "source": []
  }
 ],
 "metadata": {
  "kernelspec": {
   "display_name": "tfvenv",
   "language": "python",
   "name": "python3"
  },
  "language_info": {
   "codemirror_mode": {
    "name": "ipython",
    "version": 3
   },
   "file_extension": ".py",
   "mimetype": "text/x-python",
   "name": "python",
   "nbconvert_exporter": "python",
   "pygments_lexer": "ipython3",
   "version": "3.11.9"
  }
 },
 "nbformat": 4,
 "nbformat_minor": 2
}
